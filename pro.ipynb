{
  "nbformat": 4,
  "nbformat_minor": 0,
  "metadata": {
    "colab": {
      "provenance": []
    },
    "kernelspec": {
      "name": "python3",
      "display_name": "Python 3"
    },
    "language_info": {
      "name": "python"
    }
  },
  "cells": [
    {
      "cell_type": "code",
      "execution_count": 7,
      "metadata": {
        "colab": {
          "base_uri": "https://localhost:8080/"
        },
        "id": "yA-btQaSYMoT",
        "outputId": "9d3cb201-afdc-4db3-c31d-f26582b62592"
      },
      "outputs": [
        {
          "output_type": "stream",
          "name": "stdout",
          "text": [
            "{'mean': [array([3., 4., 5.]), array([1., 4., 7.]), 4.0], 'variance': [array([6., 6., 6.]), array([0.66666667, 0.66666667, 0.66666667]), 6.666666666666667], 'standard deviation': [array([2.44948974, 2.44948974, 2.44948974]), array([0.81649658, 0.81649658, 0.81649658]), 2.581988897471611], 'max': [array([6, 7, 8]), array([2, 5, 8]), 8], 'mn': [array([0, 1, 2]), array([0, 3, 6]), 0], 'sum': [array([ 9, 12, 15]), array([ 3, 12, 21]), 36]}\n"
          ]
        }
      ],
      "source": [
        "import numpy as np\n",
        "\n",
        "\n",
        "def calculate(a):\n",
        "  if(len(a)!=9):\n",
        "    return \"List must contain nine numbers\";\n",
        "  else:\n",
        "    a=a.reshape(3,3);\n",
        "    men=list(());\n",
        "    men.append(np.mean(a, axis=0));\n",
        "    men.append(np.mean(a, axis=1));\n",
        "    men.append(np.mean(a));\n",
        "    var=list(());\n",
        "    var.append(np.var(a, axis=0));\n",
        "    var.append(np.var(a, axis=1));\n",
        "    var.append(np.var(a));\n",
        "    st=list(());\n",
        "    st.append(np.std(a, axis=0));\n",
        "    st.append(np.std(a, axis=1));\n",
        "    st.append(np.std(a));\n",
        "    mx=list(());\n",
        "    mx.append(np.max(a, axis=0));\n",
        "    mx.append(np.max(a, axis=1));\n",
        "    mx.append(np.max(a));\n",
        "    mn=list(());\n",
        "    mn.append(np.min(a, axis=0));\n",
        "    mn.append(np.min(a, axis=1));\n",
        "    mn.append(np.min(a));\n",
        "    sum=list(());\n",
        "    sum.append(np.sum(a, axis=0));\n",
        "    sum.append(np.sum(a, axis=1));\n",
        "    sum.append(np.sum(a));\n",
        "    dic={\"mean\":men,'variance':var,'standard deviation':st,'max':mx,'mn':mn,'sum':sum};\n",
        "    return dic;\n",
        "\n",
        "\n",
        "\n",
        "a=np.array([0,1,2,3,4,5,6,7,8])\n",
        "print(calculate(a) )\n"
      ]
    },
    {
      "cell_type": "code",
      "source": [
        "import pandas as pd\n",
        "import os\n",
        "print(os.getcwd())  # يعرض المجلد الحالي الذي يتم تنفيذ الكود فيه\n",
        "print(os.listdir())\n",
        "# data=pd.read_csv(\"Census.csv\")\n"
      ],
      "metadata": {
        "colab": {
          "base_uri": "https://localhost:8080/"
        },
        "id": "63PbmQdLd_h2",
        "outputId": "62b7df45-469f-4250-8f81-438ff8de2914"
      },
      "execution_count": 14,
      "outputs": [
        {
          "output_type": "stream",
          "name": "stdout",
          "text": [
            "/content\n",
            "['.config', 'drive', 'sample_data']\n"
          ]
        }
      ]
    }
  ]
}