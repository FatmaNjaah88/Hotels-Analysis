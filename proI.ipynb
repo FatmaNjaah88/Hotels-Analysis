{
  "nbformat": 4,
  "nbformat_minor": 0,
  "metadata": {
    "colab": {
      "provenance": []
    },
    "kernelspec": {
      "name": "python3",
      "display_name": "Python 3"
    },
    "language_info": {
      "name": "python"
    }
  },
  "cells": [
    {
      "cell_type": "code",
      "source": [
        "from google.colab import files\n",
        "uploaded = files.upload()\n"
      ],
      "metadata": {
        "colab": {
          "base_uri": "https://localhost:8080/",
          "height": 71
        },
        "id": "_Le2Knicm-Ic",
        "outputId": "c9f0f107-d100-47d2-a59f-558aeaf07c03"
      },
      "execution_count": null,
      "outputs": [
        {
          "output_type": "display_data",
          "data": {
            "text/plain": [
              "<IPython.core.display.HTML object>"
            ],
            "text/html": [
              "\n",
              "     <input type=\"file\" id=\"files-c9557777-e444-43e5-8282-c24480f9a33c\" name=\"files[]\" multiple disabled\n",
              "        style=\"border:none\" />\n",
              "     <output id=\"result-c9557777-e444-43e5-8282-c24480f9a33c\">\n",
              "      Upload widget is only available when the cell has been executed in the\n",
              "      current browser session. Please rerun this cell to enable.\n",
              "      </output>\n",
              "      <script>// Copyright 2017 Google LLC\n",
              "//\n",
              "// Licensed under the Apache License, Version 2.0 (the \"License\");\n",
              "// you may not use this file except in compliance with the License.\n",
              "// You may obtain a copy of the License at\n",
              "//\n",
              "//      http://www.apache.org/licenses/LICENSE-2.0\n",
              "//\n",
              "// Unless required by applicable law or agreed to in writing, software\n",
              "// distributed under the License is distributed on an \"AS IS\" BASIS,\n",
              "// WITHOUT WARRANTIES OR CONDITIONS OF ANY KIND, either express or implied.\n",
              "// See the License for the specific language governing permissions and\n",
              "// limitations under the License.\n",
              "\n",
              "/**\n",
              " * @fileoverview Helpers for google.colab Python module.\n",
              " */\n",
              "(function(scope) {\n",
              "function span(text, styleAttributes = {}) {\n",
              "  const element = document.createElement('span');\n",
              "  element.textContent = text;\n",
              "  for (const key of Object.keys(styleAttributes)) {\n",
              "    element.style[key] = styleAttributes[key];\n",
              "  }\n",
              "  return element;\n",
              "}\n",
              "\n",
              "// Max number of bytes which will be uploaded at a time.\n",
              "const MAX_PAYLOAD_SIZE = 100 * 1024;\n",
              "\n",
              "function _uploadFiles(inputId, outputId) {\n",
              "  const steps = uploadFilesStep(inputId, outputId);\n",
              "  const outputElement = document.getElementById(outputId);\n",
              "  // Cache steps on the outputElement to make it available for the next call\n",
              "  // to uploadFilesContinue from Python.\n",
              "  outputElement.steps = steps;\n",
              "\n",
              "  return _uploadFilesContinue(outputId);\n",
              "}\n",
              "\n",
              "// This is roughly an async generator (not supported in the browser yet),\n",
              "// where there are multiple asynchronous steps and the Python side is going\n",
              "// to poll for completion of each step.\n",
              "// This uses a Promise to block the python side on completion of each step,\n",
              "// then passes the result of the previous step as the input to the next step.\n",
              "function _uploadFilesContinue(outputId) {\n",
              "  const outputElement = document.getElementById(outputId);\n",
              "  const steps = outputElement.steps;\n",
              "\n",
              "  const next = steps.next(outputElement.lastPromiseValue);\n",
              "  return Promise.resolve(next.value.promise).then((value) => {\n",
              "    // Cache the last promise value to make it available to the next\n",
              "    // step of the generator.\n",
              "    outputElement.lastPromiseValue = value;\n",
              "    return next.value.response;\n",
              "  });\n",
              "}\n",
              "\n",
              "/**\n",
              " * Generator function which is called between each async step of the upload\n",
              " * process.\n",
              " * @param {string} inputId Element ID of the input file picker element.\n",
              " * @param {string} outputId Element ID of the output display.\n",
              " * @return {!Iterable<!Object>} Iterable of next steps.\n",
              " */\n",
              "function* uploadFilesStep(inputId, outputId) {\n",
              "  const inputElement = document.getElementById(inputId);\n",
              "  inputElement.disabled = false;\n",
              "\n",
              "  const outputElement = document.getElementById(outputId);\n",
              "  outputElement.innerHTML = '';\n",
              "\n",
              "  const pickedPromise = new Promise((resolve) => {\n",
              "    inputElement.addEventListener('change', (e) => {\n",
              "      resolve(e.target.files);\n",
              "    });\n",
              "  });\n",
              "\n",
              "  const cancel = document.createElement('button');\n",
              "  inputElement.parentElement.appendChild(cancel);\n",
              "  cancel.textContent = 'Cancel upload';\n",
              "  const cancelPromise = new Promise((resolve) => {\n",
              "    cancel.onclick = () => {\n",
              "      resolve(null);\n",
              "    };\n",
              "  });\n",
              "\n",
              "  // Wait for the user to pick the files.\n",
              "  const files = yield {\n",
              "    promise: Promise.race([pickedPromise, cancelPromise]),\n",
              "    response: {\n",
              "      action: 'starting',\n",
              "    }\n",
              "  };\n",
              "\n",
              "  cancel.remove();\n",
              "\n",
              "  // Disable the input element since further picks are not allowed.\n",
              "  inputElement.disabled = true;\n",
              "\n",
              "  if (!files) {\n",
              "    return {\n",
              "      response: {\n",
              "        action: 'complete',\n",
              "      }\n",
              "    };\n",
              "  }\n",
              "\n",
              "  for (const file of files) {\n",
              "    const li = document.createElement('li');\n",
              "    li.append(span(file.name, {fontWeight: 'bold'}));\n",
              "    li.append(span(\n",
              "        `(${file.type || 'n/a'}) - ${file.size} bytes, ` +\n",
              "        `last modified: ${\n",
              "            file.lastModifiedDate ? file.lastModifiedDate.toLocaleDateString() :\n",
              "                                    'n/a'} - `));\n",
              "    const percent = span('0% done');\n",
              "    li.appendChild(percent);\n",
              "\n",
              "    outputElement.appendChild(li);\n",
              "\n",
              "    const fileDataPromise = new Promise((resolve) => {\n",
              "      const reader = new FileReader();\n",
              "      reader.onload = (e) => {\n",
              "        resolve(e.target.result);\n",
              "      };\n",
              "      reader.readAsArrayBuffer(file);\n",
              "    });\n",
              "    // Wait for the data to be ready.\n",
              "    let fileData = yield {\n",
              "      promise: fileDataPromise,\n",
              "      response: {\n",
              "        action: 'continue',\n",
              "      }\n",
              "    };\n",
              "\n",
              "    // Use a chunked sending to avoid message size limits. See b/62115660.\n",
              "    let position = 0;\n",
              "    do {\n",
              "      const length = Math.min(fileData.byteLength - position, MAX_PAYLOAD_SIZE);\n",
              "      const chunk = new Uint8Array(fileData, position, length);\n",
              "      position += length;\n",
              "\n",
              "      const base64 = btoa(String.fromCharCode.apply(null, chunk));\n",
              "      yield {\n",
              "        response: {\n",
              "          action: 'append',\n",
              "          file: file.name,\n",
              "          data: base64,\n",
              "        },\n",
              "      };\n",
              "\n",
              "      let percentDone = fileData.byteLength === 0 ?\n",
              "          100 :\n",
              "          Math.round((position / fileData.byteLength) * 100);\n",
              "      percent.textContent = `${percentDone}% done`;\n",
              "\n",
              "    } while (position < fileData.byteLength);\n",
              "  }\n",
              "\n",
              "  // All done.\n",
              "  yield {\n",
              "    response: {\n",
              "      action: 'complete',\n",
              "    }\n",
              "  };\n",
              "}\n",
              "\n",
              "scope.google = scope.google || {};\n",
              "scope.google.colab = scope.google.colab || {};\n",
              "scope.google.colab._files = {\n",
              "  _uploadFiles,\n",
              "  _uploadFilesContinue,\n",
              "};\n",
              "})(self);\n",
              "</script> "
            ]
          },
          "metadata": {}
        },
        {
          "output_type": "stream",
          "name": "stdout",
          "text": [
            "Saving Census.csv to Census (2).csv\n"
          ]
        }
      ]
    },
    {
      "cell_type": "code",
      "source": [
        "import pandas as pd\n",
        "data = pd.read_csv(\"Census (2).csv\")\n"
      ],
      "metadata": {
        "id": "XGO-RtdvnMF6"
      },
      "execution_count": null,
      "outputs": []
    },
    {
      "cell_type": "code",
      "source": [
        "# import os\n",
        "# print(os.listdir())"
      ],
      "metadata": {
        "colab": {
          "base_uri": "https://localhost:8080/"
        },
        "id": "EGoBOtao_255",
        "outputId": "0857a3ce-8f44-476e-d133-43f1f48f2dbc"
      },
      "execution_count": null,
      "outputs": [
        {
          "output_type": "stream",
          "name": "stdout",
          "text": [
            "['.config', 'drive', 'Census (1).csv', 'Census.csv', 'Census (2).csv', 'sample_data']\n"
          ]
        }
      ]
    },
    {
      "cell_type": "markdown",
      "source": [
        "How many people of each race are represented in this dataset?"
      ],
      "metadata": {
        "id": "cyo-arRNn4Xj"
      }
    },
    {
      "cell_type": "code",
      "source": [
        "print(data['race'].value_counts())"
      ],
      "metadata": {
        "colab": {
          "base_uri": "https://localhost:8080/"
        },
        "id": "m9CAA-trn0sF",
        "outputId": "bf5a254e-76e3-4550-82ef-eaebeb59e473"
      },
      "execution_count": null,
      "outputs": [
        {
          "output_type": "stream",
          "name": "stdout",
          "text": [
            "race\n",
            "White      3\n",
            "Black      2\n",
            "Name: count, dtype: int64\n"
          ]
        }
      ]
    },
    {
      "cell_type": "markdown",
      "source": [
        "What is the average age of men?"
      ],
      "metadata": {
        "id": "tI2y1XglomvH"
      }
    },
    {
      "cell_type": "code",
      "source": [
        "# import numpy as np\n",
        "# print(data.columns)\n",
        "# print(data['sex'].unique())\n",
        "# print(data['sex'].dtype)\n",
        "import numpy as np\n",
        "data.columns = data.columns.str.strip()\n",
        "data['sex'] = data['sex'].str.strip()\n",
        "male_avg_age = np.average(data.loc[data['sex'] == 'Male', 'age'])\n",
        "print(f\"Average age of males: {male_avg_age}%\")\n"
      ],
      "metadata": {
        "colab": {
          "base_uri": "https://localhost:8080/"
        },
        "id": "1HwZKl8PomEK",
        "outputId": "1cb96abb-dd48-4879-e9fc-29583b61d122"
      },
      "execution_count": null,
      "outputs": [
        {
          "output_type": "stream",
          "name": "stdout",
          "text": [
            "Average age of males: 45.0%\n"
          ]
        }
      ]
    },
    {
      "cell_type": "markdown",
      "source": [
        "What is the percentage of people who have a Bachelor's degree?"
      ],
      "metadata": {
        "id": "Syy-m1HusHLI"
      }
    },
    {
      "cell_type": "code",
      "source": [
        "data['education'] = data['education'].str.strip()\n",
        "sm=np.count_nonzero(data.loc[data['education']=='Bachelors','education'])\n",
        "print((sm/len(data['education']))*100,\"%\")"
      ],
      "metadata": {
        "colab": {
          "base_uri": "https://localhost:8080/"
        },
        "id": "HV69TdCYsLSO",
        "outputId": "4a115789-9d5e-4ead-855f-0a2df5d99507"
      },
      "execution_count": null,
      "outputs": [
        {
          "output_type": "stream",
          "name": "stdout",
          "text": [
            "60.0 %\n"
          ]
        }
      ]
    },
    {
      "cell_type": "markdown",
      "source": [
        "What percentage of people with advanced education (Bachelors, Masters, or Doctorate) make more than 50K"
      ],
      "metadata": {
        "id": "uagAsxISuH3Y"
      }
    },
    {
      "cell_type": "code",
      "source": [
        "import numpy as np\n",
        "import pandas as pd\n",
        "sm2 = (data.loc[(data['education'].isin(['Bachelors', 'Doctorate', 'Masters'])) & (data['salary'] == '>50'), 'education'].count())\n",
        "percentage = (sm2 / len(data['education'])) * 100\n",
        "print(f\"{percentage:.2f} %\")\n"
      ],
      "metadata": {
        "colab": {
          "base_uri": "https://localhost:8080/"
        },
        "id": "aoOu_oSKsz4N",
        "outputId": "8145690b-0c77-4c47-b583-6ddece241a67"
      },
      "execution_count": null,
      "outputs": [
        {
          "output_type": "stream",
          "name": "stdout",
          "text": [
            "0.00 %\n"
          ]
        }
      ]
    },
    {
      "cell_type": "markdown",
      "source": [
        "What percentage of people without advanced education make more than 50K?"
      ],
      "metadata": {
        "id": "5rbSW7zb0sS7"
      }
    },
    {
      "cell_type": "code",
      "source": [
        "import numpy as np\n",
        "import pandas as pd\n",
        "# data['salary'] = data['salary'].astype(str)\n",
        "# print(data['salary'].apply(type).unique())\n",
        "sm3 = data.loc[(~data['education'].isin(['Bachelors', 'Doctorate', 'Masters'])) & (data['salary'] == '>50K'), 'education'].count()\n",
        "percentage = (sm3 / len(data['education'])) * 100\n",
        "print(f\"{percentage:.2f} %\")\n",
        "# data['salary'].dtype\n"
      ],
      "metadata": {
        "colab": {
          "base_uri": "https://localhost:8080/"
        },
        "id": "yZbxpzs80v_d",
        "outputId": "c5a65557-e48c-4271-f3b1-46203a4b00bf"
      },
      "execution_count": null,
      "outputs": [
        {
          "output_type": "stream",
          "name": "stdout",
          "text": [
            "0.00 %\n"
          ]
        }
      ]
    },
    {
      "cell_type": "markdown",
      "source": [
        "What is the minimum number of hours a person works per week?"
      ],
      "metadata": {
        "id": "8qMCsQVU4Y4a"
      }
    },
    {
      "cell_type": "code",
      "source": [
        "print(f\"Minimum number of hours a person works per week is {min(data['hours-per-week'])}\")"
      ],
      "metadata": {
        "colab": {
          "base_uri": "https://localhost:8080/"
        },
        "id": "nxtCfR6Y4ctM",
        "outputId": "f401e18d-4e9d-41e9-caa0-755001310f18"
      },
      "execution_count": null,
      "outputs": [
        {
          "output_type": "stream",
          "name": "stdout",
          "text": [
            "Minimum number of hours a person works per week is 13\n"
          ]
        }
      ]
    },
    {
      "cell_type": "markdown",
      "source": [
        "What percentage of the people who work the minimum number of hours per week have a salary of more than 50K?"
      ],
      "metadata": {
        "id": "xj9-MT8h4uwq"
      }
    },
    {
      "cell_type": "code",
      "source": [
        "sm4=data.loc[data['hours-per-week']==min(data['hours-per-week'])& (data['salary']=='>50K'),'salary'].count();\n",
        "print(sm4/len(data['hours-per-week'])*100,'%')"
      ],
      "metadata": {
        "colab": {
          "base_uri": "https://localhost:8080/"
        },
        "id": "RFTFHy1o4yut",
        "outputId": "05dba677-1365-43bd-f2ff-12ae759fe6c6"
      },
      "execution_count": null,
      "outputs": [
        {
          "output_type": "stream",
          "name": "stdout",
          "text": [
            "0.0 %\n"
          ]
        }
      ]
    },
    {
      "cell_type": "markdown",
      "source": [
        "What country has the highest percentage of people that earn >50K and what is that percentage?"
      ],
      "metadata": {
        "id": "8n2y_Wqe543_"
      }
    },
    {
      "cell_type": "code",
      "source": [
        "sm5=data.loc[ (data['salary']=='>50K'),'native-country'].value_counts()\n",
        "total_per_country = data['native-country'].value_counts()\n",
        "per=(sm5/total_per_country)*100\n",
        "maxx=per.max()\n",
        "print(maxx)"
      ],
      "metadata": {
        "colab": {
          "base_uri": "https://localhost:8080/"
        },
        "id": "RCzuSYFD5-DP",
        "outputId": "e5f6081e-6c59-46ef-bfc7-94418b111623"
      },
      "execution_count": null,
      "outputs": [
        {
          "output_type": "stream",
          "name": "stdout",
          "text": [
            "nan\n"
          ]
        }
      ]
    },
    {
      "cell_type": "markdown",
      "source": [
        "Identify the most popular occupation for those who earn >50K in India.bold text"
      ],
      "metadata": {
        "id": "DgK-QTQ28-UB"
      }
    },
    {
      "cell_type": "code",
      "source": [
        "# data.columns = data.columns.str.strip()\n",
        "# data['native-country'] = data['native-country'].str.strip()\n",
        "# print(data['native-country'].unique())  # يعرض كل الدول في العمود\n",
        "\n",
        "indian = data.loc[(data['salary'] == '>50K') & (data['native-country'] == 'India')]\n",
        "if not indian['occupation'].dropna().empty:\n",
        "    most = indian['occupation'].value_counts().idxmax()\n",
        "    print(f\"The most popular occupation for those earning >50K in India is: {most}\")\n",
        "else:\n",
        "  print(\"⚠️ No valid occupation data available for those earning >50K in India.\")\n",
        "\n"
      ],
      "metadata": {
        "colab": {
          "base_uri": "https://localhost:8080/"
        },
        "id": "Wnj1OVp_8YGk",
        "outputId": "b9fc84bd-17a3-47f7-b376-46291b994d20"
      },
      "execution_count": null,
      "outputs": [
        {
          "output_type": "stream",
          "name": "stdout",
          "text": [
            "⚠️ No valid occupation data available for those earning >50K in India.\n"
          ]
        }
      ]
    },
    {
      "cell_type": "markdown",
      "source": [
        "==================================================================="
      ],
      "metadata": {
        "id": "W0MdYh96DysD"
      }
    },
    {
      "cell_type": "markdown",
      "source": [
        "Import the data from medical_examination.csv and assign it to the df variable"
      ],
      "metadata": {
        "id": "lc1VdQxeGo4B"
      }
    },
    {
      "cell_type": "code",
      "source": [
        "import pandas as pd\n",
        "df=pd.read_csv(\"medical_examination.csv\");"
      ],
      "metadata": {
        "id": "DaxAJmUkDx-y"
      },
      "execution_count": null,
      "outputs": []
    },
    {
      "cell_type": "code",
      "source": [
        "df['BMI'] = df['weight'] / ((df['height'] / 100) ** 2)\n",
        "df['overweight'] = (df['BMI'] > 25).astype(int)"
      ],
      "metadata": {
        "id": "cFN8AKTbTn4y"
      },
      "execution_count": null,
      "outputs": []
    },
    {
      "cell_type": "code",
      "source": [
        "df['BMI'] = df['weight'] / ((df['height'] / 100) ** 2)\n",
        "df['overweight'] = (df['BMI'] > 25).astype(int)"
      ],
      "metadata": {
        "id": "AMEYcP99TrPf"
      },
      "execution_count": null,
      "outputs": []
    },
    {
      "cell_type": "code",
      "source": [
        "df['cholesterol'] = (df['cholesterol'] > 1).astype(int)\n",
        "df['gluc'] = (df['gluc'] > 1).astype(int)\n"
      ],
      "metadata": {
        "id": "xag4EOfVTpzl"
      },
      "execution_count": null,
      "outputs": []
    },
    {
      "cell_type": "code",
      "source": [
        "import seaborn as sns\n",
        "import matplotlib.pyplot as plt\n",
        "\n",
        "def draw_cat_plot():\n",
        "    df_cat = pd.melt(df, id_vars=[\"cardio\"], value_vars=['cholesterol', 'gluc', 'smoke', 'alco', 'active', 'overweight'])\n",
        "    g = sns.catplot(x=\"variable\", hue=\"value\", col=\"cardio\", data=df_cat, kind=\"count\")\n",
        "    return g.fig\n"
      ],
      "metadata": {
        "id": "rOTfTyr4TxN1"
      },
      "execution_count": null,
      "outputs": []
    },
    {
      "cell_type": "code",
      "source": [
        "df_heat = df[\n",
        "    (df['ap_lo'] <= df['ap_hi']) &\n",
        "    (df['height'] >= df['height'].quantile(0.025)) &\n",
        "    (df['height'] <= df['height'].quantile(0.975)) &\n",
        "    (df['weight'] >= df['weight'].quantile(0.025)) &\n",
        "    (df['weight'] <= df['weight'].quantile(0.975))\n",
        "]\n"
      ],
      "metadata": {
        "id": "RuqVyJceT4bb"
      },
      "execution_count": null,
      "outputs": []
    },
    {
      "cell_type": "code",
      "source": [
        "import numpy as np\n",
        "\n",
        "def draw_heat_map():\n",
        "    corr = df_heat.corr()\n",
        "    mask = np.triu(np.ones_like(corr, dtype=bool))\n",
        "    fig, ax = plt.subplots(figsize=(10, 8))\n",
        "    sns.heatmap(corr, mask=mask, annot=True, fmt=\".1f\", cmap=\"coolwarm\", square=True)\n",
        "\n",
        "    return fig\n"
      ],
      "metadata": {
        "id": "1t6N-kS-T_7J"
      },
      "execution_count": null,
      "outputs": []
    },
    {
      "cell_type": "markdown",
      "source": [
        "=================================================="
      ],
      "metadata": {
        "id": "qn27-nCHV2N_"
      }
    },
    {
      "cell_type": "code",
      "source": [
        "import pandas as pd\n",
        "df = pd.read_csv(\"fcc-forum-pageviews.csv\", index_col=\"date\", parse_dates=True)\n"
      ],
      "metadata": {
        "id": "zlI0DKuLUJAs"
      },
      "execution_count": null,
      "outputs": []
    },
    {
      "cell_type": "code",
      "source": [
        "df = df[\n",
        "    (df['value'] >= df['value'].quantile(0.025)) &\n",
        "    (df['value'] <= df['value'].quantile(0.975))\n",
        "]"
      ],
      "metadata": {
        "id": "57waOLQpV7xa"
      },
      "execution_count": null,
      "outputs": []
    },
    {
      "cell_type": "code",
      "source": [
        "import matplotlib.pyplot as plt\n",
        "def draw_line_plot():\n",
        "    fig, ax = plt.subplots(figsize=(12, 6))\n",
        "    ax.plot(df.index, df['value'], color='red', linewidth=1)\n",
        "\n",
        "    ax.set_title(\"Daily freeCodeCamp Forum Page Views 5/2016-12/2019\")\n",
        "    ax.set_xlabel(\"Date\")\n",
        "    ax.set_ylabel(\"Page Views\")\n",
        "\n",
        "    return fig\n"
      ],
      "metadata": {
        "id": "R2CBSyl_WCaz"
      },
      "execution_count": null,
      "outputs": []
    },
    {
      "cell_type": "code",
      "source": [
        "import seaborn as sns\n",
        "df_bar = df.copy()\n",
        "df_bar['year'] = df_bar.index.year\n",
        "df_bar['month'] = df_bar.index.month\n",
        "df_bar = df_bar.groupby([\"year\", \"month\"])[\"value\"].mean().unstack()\n",
        "fig = df_bar.plot(kind='bar', figsize=(12,6)).figure\n",
        "plt.xlabel(\"Years\")\n",
        "plt.ylabel(\"Average Page Views\")\n",
        "plt.legend(title=\"Months\", labels=[\"Jan\", \"Feb\", \"Mar\", \"Apr\", \"May\", \"Jun\", \"Jul\", \"Aug\", \"Sep\", \"Oct\", \"Nov\", \"Dec\"])\n",
        "print(fig)\n"
      ],
      "metadata": {
        "id": "VohdYFS0WIf0"
      },
      "execution_count": null,
      "outputs": []
    },
    {
      "cell_type": "code",
      "source": [
        "df_box = df.copy()\n",
        "df_box[\"year\"] = df_box.index.year\n",
        "df_box[\"month\"] = df_box.index.strftime('%b')\n",
        "fig, axes = plt.subplots(1, 2, figsize=(14,6))\n",
        "    # مخطط السنة\n",
        "sns.boxplot(x=\"year\", y=\"value\", data=df_box, ax=axes[0])\n",
        "axes[0].set_title(\"Year-wise Box Plot (Trend)\")\n",
        "axes[0].set_xlabel(\"Year\")\n",
        "axes[0].set_ylabel(\"Page Views\")\n",
        "    # مخطط الشهر\n",
        "sns.boxplot(x=\"month\", y=\"value\", data=df_box, order=[\"Jan\", \"Feb\", \"Mar\", \"Apr\", \"May\", \"Jun\", \"Jul\", \"Aug\", \"Sep\", \"Oct\", \"Nov\", \"Dec\"], ax=axes[1])\n",
        "axes[1].set_title(\"Month-wise Box Plot (Seasonality)\")\n",
        "axes[1].set_xlabel(\"Month\")\n",
        "axes[1].set_ylabel(\"Page Views\")\n",
        "\n",
        "print (fig)\n"
      ],
      "metadata": {
        "id": "KnJdCxk6WS6Q"
      },
      "execution_count": null,
      "outputs": []
    },
    {
      "cell_type": "markdown",
      "source": [
        "======================================================================"
      ],
      "metadata": {
        "id": "tvnBVjiAXtKI"
      }
    },
    {
      "cell_type": "code",
      "source": [
        "import pandas as pd\n",
        "df = pd.read_csv(\"epa-sea-level.csv\")\n"
      ],
      "metadata": {
        "id": "zzZKtwD2XuaY"
      },
      "execution_count": null,
      "outputs": []
    },
    {
      "cell_type": "code",
      "source": [
        "print(df.head())"
      ],
      "metadata": {
        "id": "fuTJtudoX3bq"
      },
      "execution_count": null,
      "outputs": []
    },
    {
      "cell_type": "code",
      "source": [
        "import matplotlib.pyplot as plt\n",
        "plt.scatter(df[\"Year\"], df[\"CSIRO Adjusted Sea Level\"], label=\"Data Points\")\n",
        "plt.xlabel(\"Year\")\n",
        "plt.ylabel(\"Sea Level (inches)\")\n",
        "plt.title(\"Rise in Sea Level\")\n",
        "plt.legend()\n",
        "plt.show()\n"
      ],
      "metadata": {
        "id": "D5Oh_J7SX5so"
      },
      "execution_count": null,
      "outputs": []
    },
    {
      "cell_type": "code",
      "source": [
        "from scipy.stats import linregress\n",
        "slope, intercept, r_value, p_value, std_err = linregress(df[\"Year\"], df[\"CSIRO Adjusted Sea Level\"])\n",
        "years = range(1880, 2051)\n",
        "predicted_sea_levels = intercept + slope * years\n",
        "plt.plot(years, predicted_sea_levels, 'r', label=\"Best Fit Line (1880-2050)\")\n"
      ],
      "metadata": {
        "id": "aAPnmYX4X8_W"
      },
      "execution_count": null,
      "outputs": []
    },
    {
      "cell_type": "code",
      "source": [
        "df_2000 = df[df[\"Year\"] >= 2000]\n",
        "slope_2000, intercept_2000, _, _, _ = linregress(df_2000[\"Year\"], df_2000[\"CSIRO Adjusted Sea Level\"])\n",
        "years_2000 = range(2000, 2051)\n",
        "predicted_sea_levels_2000 = intercept_2000 + slope_2000 * years_2000\n",
        "\n",
        "plt.plot(years_2000, predicted_sea_levels_2000, 'g', label=\"Best Fit Line (2000-2050)\")\n"
      ],
      "metadata": {
        "id": "kjZzYRA7YDtD"
      },
      "execution_count": null,
      "outputs": []
    },
    {
      "cell_type": "code",
      "source": [
        "plt.xlabel(\"Year\")\n",
        "plt.ylabel(\"Sea Level (inches)\")\n",
        "plt.title(\"Rise in Sea Level\")\n",
        "plt.legend()\n",
        "plt.savefig(\"sea_level_plot.png\")\n",
        "plt.show()\n"
      ],
      "metadata": {
        "id": "bsZg2GLvYJwX"
      },
      "execution_count": null,
      "outputs": []
    }
  ]
}